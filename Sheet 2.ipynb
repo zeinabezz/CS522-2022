{
  "cells": [
    {
      "cell_type": "markdown",
      "metadata": {
        "id": "view-in-github",
        "colab_type": "text"
      },
      "source": [
        "<a href=\"https://colab.research.google.com/github/zeinabezz/CS522-2022/blob/main/Sheet%202.ipynb\" target=\"_parent\"><img src=\"https://colab.research.google.com/assets/colab-badge.svg\" alt=\"Open In Colab\"/></a>"
      ]
    },
    {
      "cell_type": "code",
      "execution_count": null,
      "metadata": {
        "id": "zJ4f23LTtFiP",
        "outputId": "bae2db23-9b04-46b6-de23-c6f7fb2cf4dd"
      },
      "outputs": [
        {
          "name": "stdout",
          "output_type": "stream",
          "text": [
            "a>50 & a!=b\n"
          ]
        }
      ],
      "source": [
        "#Q1:\n",
        "a=500\n",
        "b=300\n",
        "if a==b:\n",
        "    print('a=b')\n",
        "elif a>50:\n",
        "    print('a>50 & a!=b')\n",
        "else:\n",
        "    print('a>=50 & a!=b')"
      ]
    },
    {
      "cell_type": "code",
      "execution_count": null,
      "metadata": {
        "id": "UJmU-yLvtFiW",
        "outputId": "931f2171-3d9f-45a5-dec3-0b4174bd7077"
      },
      "outputs": [
        {
          "name": "stdout",
          "output_type": "stream",
          "text": [
            "a>50 & a!=b\n"
          ]
        }
      ],
      "source": [
        "#Q1-solution:\n",
        "a=500\n",
        "b=300\n",
        "print('a=b')if a==b else print('a>50 & a!=b')if a>50 else print('a>=50 & a!=b')"
      ]
    },
    {
      "cell_type": "code",
      "execution_count": null,
      "metadata": {
        "id": "l75wjGgptFiY",
        "outputId": "50012581-08c3-4642-cb32-256df73da3da"
      },
      "outputs": [
        {
          "name": "stdout",
          "output_type": "stream",
          "text": [
            "i is less than 15\n"
          ]
        }
      ],
      "source": [
        "#Q2\n",
        "i=10\n",
        "if i<15:\n",
        "    print('i is less than 15')"
      ]
    },
    {
      "cell_type": "code",
      "execution_count": null,
      "metadata": {
        "id": "1DrJ2ei2tFia",
        "outputId": "5000b005-e4e0-4470-b733-dd94d870a073"
      },
      "outputs": [
        {
          "name": "stdout",
          "output_type": "stream",
          "text": [
            "i is less than 15\n"
          ]
        }
      ],
      "source": [
        "#Q2-solution:\n",
        "i=10\n",
        "if i<15: print('i is less than 15')"
      ]
    },
    {
      "cell_type": "code",
      "execution_count": 1,
      "metadata": {
        "colab": {
          "base_uri": "https://localhost:8080/"
        },
        "id": "NnkGLVtktFic",
        "outputId": "1cf3a5fe-db5b-4e36-9eb4-5d53fcd550c7"
      },
      "outputs": [
        {
          "output_type": "stream",
          "name": "stdout",
          "text": [
            "i is greater than or equals to 15\n"
          ]
        }
      ],
      "source": [
        "#Q3\n",
        "i=100\n",
        "if i<15:\n",
        "    print('i is less than 15')\n",
        "else: \n",
        "    print('i is greater than or equals to 15')"
      ]
    },
    {
      "cell_type": "code",
      "execution_count": 2,
      "metadata": {
        "colab": {
          "base_uri": "https://localhost:8080/"
        },
        "id": "WM2Xy5SJtFid",
        "outputId": "1b9345d7-c6ab-479e-9fe1-9d85c5d683a9"
      },
      "outputs": [
        {
          "output_type": "stream",
          "name": "stdout",
          "text": [
            "i is greater than or equals to 15\n"
          ]
        }
      ],
      "source": [
        "#Q3-solution:\n",
        "i=100\n",
        "print('i is less than 15') if i<15 else print('i is greater than or equals to 15')"
      ]
    },
    {
      "cell_type": "code",
      "source": [
        "#Q3-solution:\n",
        "i=100\n",
        "if i<15: print('i is less than 15') \n",
        "else: print('i is greater than or equals to 15')"
      ],
      "metadata": {
        "colab": {
          "base_uri": "https://localhost:8080/"
        },
        "id": "OjX1VZlBtiqk",
        "outputId": "900fa404-95e2-4ab6-d15e-b49c67e3da2e"
      },
      "execution_count": 3,
      "outputs": [
        {
          "output_type": "stream",
          "name": "stdout",
          "text": [
            "i is greater than or equals to 15\n"
          ]
        }
      ]
    },
    {
      "cell_type": "code",
      "execution_count": 4,
      "metadata": {
        "colab": {
          "base_uri": "https://localhost:8080/"
        },
        "id": "f7dSZFY4tFif",
        "outputId": "21db3a84-f236-4d99-ac61-a1fde09af96d"
      },
      "outputs": [
        {
          "output_type": "stream",
          "name": "stdout",
          "text": [
            "i is greater than 15\n"
          ]
        }
      ],
      "source": [
        "#Q4:\n",
        "i=100\n",
        "if i<15:\n",
        "    print('i is less than 15')\n",
        "elif i>15:\n",
        "    print('i is greater than 15')\n",
        "else: \n",
        "    print('i is equals to 15')"
      ]
    },
    {
      "cell_type": "code",
      "source": [
        "#Q4-solution:\n",
        "i=100\n",
        "if i<15:     print('i is less than 15')\n",
        "elif i>15:     print('i is greater than 15')\n",
        "else:      print('i is equals to 15')"
      ],
      "metadata": {
        "colab": {
          "base_uri": "https://localhost:8080/"
        },
        "id": "Ya3dsdGLt9u2",
        "outputId": "5e4d4b8b-b8b5-44e1-f665-71e3e77cf183"
      },
      "execution_count": 5,
      "outputs": [
        {
          "output_type": "stream",
          "name": "stdout",
          "text": [
            "i is greater than 15\n"
          ]
        }
      ]
    },
    {
      "cell_type": "code",
      "source": [
        "#Q4-solution:\n",
        "i=100\n",
        "print('i is less than 15') if i<15 else print('i is greater than 15')  if i>15  else print('i is equals to 15')"
      ],
      "metadata": {
        "colab": {
          "base_uri": "https://localhost:8080/"
        },
        "id": "Fm297aqhuIOb",
        "outputId": "6fcb3428-1e6d-439b-ba06-7477e4b2ec39"
      },
      "execution_count": 6,
      "outputs": [
        {
          "output_type": "stream",
          "name": "stdout",
          "text": [
            "i is greater than 15\n"
          ]
        }
      ]
    },
    {
      "cell_type": "code",
      "execution_count": 7,
      "metadata": {
        "colab": {
          "base_uri": "https://localhost:8080/"
        },
        "id": "BHv4g8R5tFig",
        "outputId": "0fe07fc8-c4bb-41de-d560-674114ca55c2"
      },
      "outputs": [
        {
          "output_type": "stream",
          "name": "stdout",
          "text": [
            "[1, 2, 3, 4, 5]\n"
          ]
        }
      ],
      "source": [
        "#Q5:\n",
        "x=[1, 2, 3, 4, 5]\n",
        "y=[]\n",
        "for i in range(len(x)):\n",
        "    y[i:]=[x[i]]\n",
        "print(y)"
      ]
    },
    {
      "cell_type": "code",
      "execution_count": 9,
      "metadata": {
        "colab": {
          "base_uri": "https://localhost:8080/"
        },
        "id": "ualitD5KtFih",
        "outputId": "2a5f5181-c711-49db-e5ac-13a8011b4ed9"
      },
      "outputs": [
        {
          "output_type": "stream",
          "name": "stdout",
          "text": [
            "[1, 2, 3, 4, 5]\n"
          ]
        }
      ],
      "source": [
        "#Q5-solution:\n",
        "x=[1, 2, 3, 4, 5]\n",
        "y=[ x[i] for i in range(len(x))]\n",
        "\n",
        "print(y)"
      ]
    },
    {
      "cell_type": "code",
      "execution_count": null,
      "metadata": {
        "id": "txOR67optFij",
        "outputId": "afd6d5bb-1d69-4cea-a25a-9d8dce0c0c24"
      },
      "outputs": [
        {
          "name": "stdout",
          "output_type": "stream",
          "text": [
            "[1, 2, 3, 4, 5]\n"
          ]
        }
      ],
      "source": [
        "x=[1, 2, 3, 4, 5]\n",
        "z=[ x[i] for i in range(len(x))]\n",
        "print(z)"
      ]
    },
    {
      "cell_type": "code",
      "execution_count": 10,
      "metadata": {
        "colab": {
          "base_uri": "https://localhost:8080/"
        },
        "id": "lBHDpshbtFik",
        "outputId": "d9e45d44-65da-444c-e2f7-cab0959dbca8"
      },
      "outputs": [
        {
          "output_type": "stream",
          "name": "stdout",
          "text": [
            "[(1, 'a'), (2, 'b'), (3, 'c'), (4, 'd'), (5, 'e')]\n"
          ]
        }
      ],
      "source": [
        "#Q6:\n",
        "x=[1, 2, 3, 4, 5, ]\n",
        "y=['a', 'b', 'c', 'd', 'e']\n",
        "z=[]\n",
        "for i in range(len(x)):\n",
        "    for j in range(len(y)):\n",
        "        if i==j:\n",
        "            z[i:]=[(x[i], y[i])]\n",
        "print(z)"
      ]
    },
    {
      "cell_type": "code",
      "execution_count": 11,
      "metadata": {
        "colab": {
          "base_uri": "https://localhost:8080/"
        },
        "id": "43yofRjUtFil",
        "outputId": "61715107-43fd-45fb-ac35-8696ef35abac"
      },
      "outputs": [
        {
          "output_type": "stream",
          "name": "stdout",
          "text": [
            "[(1, 'a'), (2, 'b'), (3, 'c'), (4, 'd'), (5, 'e')]\n"
          ]
        }
      ],
      "source": [
        "#Q6-solution:\n",
        "x=[1, 2, 3, 4, 5, ]\n",
        "y=['a', 'b', 'c', 'd', 'e']\n",
        "\n",
        "\n",
        "z=[ (x[i], y[i])   for i in range(len(x)) for j in range(len(y)) if i==j]\n",
        "\n",
        "            \n",
        "print(z)"
      ]
    },
    {
      "cell_type": "code",
      "execution_count": 12,
      "metadata": {
        "colab": {
          "base_uri": "https://localhost:8080/"
        },
        "id": "gfZdQXgxtFin",
        "outputId": "1a01c34b-c683-4e7b-837c-146143e43534"
      },
      "outputs": [
        {
          "output_type": "stream",
          "name": "stdout",
          "text": [
            "[(1, 'a'), ('b', 1), ('a', 2), (2, 'b'), ('a', 3), ('b', 3)]\n"
          ]
        }
      ],
      "source": [
        "#Q7:\n",
        "x=[1, 2, 3]\n",
        "y=['a', 'b']\n",
        "z=[]\n",
        "k=0\n",
        "for i in range(len(x)):\n",
        "    for j in range(len(y)):\n",
        "        if i==j:\n",
        "            z[k:]=[(x[i], y[j])]\n",
        "        else:\n",
        "            z[k:]=[(y[j], x[i])]\n",
        "        k=k+1\n",
        "print(z)"
      ]
    },
    {
      "cell_type": "code",
      "execution_count": 13,
      "metadata": {
        "colab": {
          "base_uri": "https://localhost:8080/"
        },
        "id": "w1g-MWqHtFin",
        "outputId": "82be9fd0-fe80-41b1-b6c9-694753a6a6ae"
      },
      "outputs": [
        {
          "output_type": "stream",
          "name": "stdout",
          "text": [
            "[(1, 'a'), ('b', 1), ('a', 2), (2, 'b'), ('a', 3), ('b', 3)]\n"
          ]
        }
      ],
      "source": [
        "#Q7-solution:\n",
        "x=[1, 2, 3]\n",
        "y=['a', 'b']\n",
        "\n",
        "\n",
        "z=[ (x[i], y[j]) if i==j  else (y[j], x[i]) for i in range(len(x))  for j in range(len(y))  ]\n",
        "\n",
        "        \n",
        "print(z)"
      ]
    },
    {
      "cell_type": "code",
      "execution_count": 15,
      "metadata": {
        "colab": {
          "base_uri": "https://localhost:8080/"
        },
        "id": "ZNbw2PfdtFiq",
        "outputId": "976f0498-2e45-4dee-c7a2-1aa24036fa73"
      },
      "outputs": [
        {
          "output_type": "stream",
          "name": "stdout",
          "text": [
            "[(1, 'a'), ('b', 1), ('a', 2), (2, 'b'), (2, 2), (2, 2)]\n"
          ]
        }
      ],
      "source": [
        "#Q8:\n",
        "x=[1, 2, 3]\n",
        "y=['a', 'b']\n",
        "z=[ (x[i], y[j]) if i==j else  (2, 2)  if i==2   else (y[j], x[i]) for i in range(len(x)) for j in range(len(y))  ]\n",
        "\n",
        "print(z)"
      ]
    },
    {
      "cell_type": "code",
      "execution_count": 16,
      "metadata": {
        "colab": {
          "base_uri": "https://localhost:8080/"
        },
        "id": "p7S9bPJHtFiq",
        "outputId": "88c1202c-b9c0-48b6-fb7d-36dfc477873a"
      },
      "outputs": [
        {
          "output_type": "stream",
          "name": "stdout",
          "text": [
            "[(1, 'a'), ('b', 1), ('a', 2), (2, 'b'), (2, 2), (2, 2)]\n"
          ]
        }
      ],
      "source": [
        "#Q8-solution:\n",
        "x=[1, 2, 3]\n",
        "y=['a', 'b']\n",
        "z=[]\n",
        "for i in range(len(x)):\n",
        "  for j in range(len(y)):\n",
        "    if i==j: \n",
        "      z.append( (x[i], y[j]) )  \n",
        "    elif i==2:\n",
        "      z.append( (2, 2) )\n",
        "    else: \n",
        "      z.append( (y[j], x[i]) )\n",
        "\n",
        "print(z)"
      ]
    },
    {
      "cell_type": "code",
      "execution_count": 19,
      "metadata": {
        "colab": {
          "base_uri": "https://localhost:8080/"
        },
        "id": "CERVViJLtFir",
        "outputId": "b3226d94-8063-4e83-e578-73e06c3124cc"
      },
      "outputs": [
        {
          "output_type": "stream",
          "name": "stdout",
          "text": [
            "[1, 2, 3, 4, 5]\n"
          ]
        }
      ],
      "source": [
        "#Q9:\n",
        "x=[1, 2, 3, 4, 5]\n",
        "y=[x[i] for i in range(len(x))]\n",
        "print(y)"
      ]
    },
    {
      "cell_type": "code",
      "execution_count": 20,
      "metadata": {
        "colab": {
          "base_uri": "https://localhost:8080/"
        },
        "id": "rnys7aAKtFir",
        "outputId": "29ab91be-1ee3-4b4b-ed6d-425075fb5490"
      },
      "outputs": [
        {
          "output_type": "stream",
          "name": "stdout",
          "text": [
            "[1, 2, 3, 4, 5]\n"
          ]
        }
      ],
      "source": [
        "#Q9-solution:\n",
        "x=[1, 2, 3, 4, 5]\n",
        "y=[]\n",
        "for i in range(len(x)):\n",
        "    y[i:]=[x[i]]\n",
        "print(y)"
      ]
    },
    {
      "cell_type": "code",
      "execution_count": 17,
      "metadata": {
        "colab": {
          "base_uri": "https://localhost:8080/"
        },
        "id": "zbdzS2UxtFis",
        "outputId": "9e68d254-60c6-4c2b-efe4-7182f74be20c"
      },
      "outputs": [
        {
          "output_type": "stream",
          "name": "stdout",
          "text": [
            "[(1, 'a'), (2, 'b')]\n"
          ]
        }
      ],
      "source": [
        "#Q10:\n",
        "x=[1, 2, 3]\n",
        "y=['a', 'b']\n",
        "z=[(x[i], y[j]) for i in range(len(x)) for j in range (len(y)) if i==j]\n",
        "print(z)\n"
      ]
    },
    {
      "cell_type": "code",
      "execution_count": 18,
      "metadata": {
        "colab": {
          "base_uri": "https://localhost:8080/"
        },
        "id": "9ihKzNf8tFis",
        "outputId": "d260dbd9-0d9f-41c9-b455-74320d86b785"
      },
      "outputs": [
        {
          "output_type": "stream",
          "name": "stdout",
          "text": [
            "[(1, 'a'), (2, 'b')]\n"
          ]
        }
      ],
      "source": [
        "#Q10-solution:\n",
        "x=[1, 2, 3]\n",
        "y=['a', 'b']\n",
        "z=[]\n",
        "k=0\n",
        "for i in range(len(x)):\n",
        "    for j in range (len(y)):\n",
        "        if i==j:\n",
        "            z[k:]=[(x[i], y[j])]\n",
        "            k=k+1\n",
        "\n",
        "print(z)\n"
      ]
    },
    {
      "cell_type": "code",
      "execution_count": 21,
      "metadata": {
        "colab": {
          "base_uri": "https://localhost:8080/"
        },
        "id": "fpl9kik4tFit",
        "outputId": "b8d2a6b6-6fb4-4167-ac06-6274f5a61da4"
      },
      "outputs": [
        {
          "output_type": "stream",
          "name": "stdout",
          "text": [
            "even\n"
          ]
        }
      ],
      "source": [
        "#Q11:\n",
        "x=34\n",
        "s=('odd', 'even')[x%2==0]\n",
        "print(s)"
      ]
    },
    {
      "cell_type": "code",
      "source": [
        "#Q11-solution:\n",
        "x=34\n",
        "\n",
        "if x%2==0:\n",
        "  s='even'\n",
        "else:\n",
        "  s='odd'\n",
        "\n",
        "print(s)"
      ],
      "metadata": {
        "colab": {
          "base_uri": "https://localhost:8080/"
        },
        "id": "6JRiiO4y0js_",
        "outputId": "f4fca859-82ca-40b5-ba87-539f83eab08b"
      },
      "execution_count": 22,
      "outputs": [
        {
          "output_type": "stream",
          "name": "stdout",
          "text": [
            "even\n"
          ]
        }
      ]
    }
  ],
  "metadata": {
    "kernelspec": {
      "display_name": "Python 3",
      "language": "python",
      "name": "python3"
    },
    "language_info": {
      "codemirror_mode": {
        "name": "ipython",
        "version": 3
      },
      "file_extension": ".py",
      "mimetype": "text/x-python",
      "name": "python",
      "nbconvert_exporter": "python",
      "pygments_lexer": "ipython3",
      "version": "3.7.6"
    },
    "colab": {
      "name": "Sheet#2.ipynb",
      "provenance": [],
      "include_colab_link": true
    }
  },
  "nbformat": 4,
  "nbformat_minor": 0
}