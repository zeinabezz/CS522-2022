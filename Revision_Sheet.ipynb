{
  "cells": [
    {
      "cell_type": "markdown",
      "metadata": {
        "id": "view-in-github",
        "colab_type": "text"
      },
      "source": [
        "<a href=\"https://colab.research.google.com/github/zeinabezz/CS522-2022/blob/main/Revision_Sheet.ipynb\" target=\"_parent\"><img src=\"https://colab.research.google.com/assets/colab-badge.svg\" alt=\"Open In Colab\"/></a>"
      ]
    },
    {
      "cell_type": "markdown",
      "source": [
        "[Revision Sheet 1:](https://forms.gle/mYT7HJQYuN698xgU7)"
      ],
      "metadata": {
        "id": "556_1TcsUJbb"
      }
    },
    {
      "cell_type": "markdown",
      "metadata": {
        "id": "-F5uBiPlUIXw"
      },
      "source": [
        "# MCQ\n",
        "\n",
        "## The following code is equivalent to:"
      ]
    },
    {
      "cell_type": "code",
      "execution_count": null,
      "metadata": {
        "id": "HBqRCY8AUIXz"
      },
      "outputs": [],
      "source": [
        "x=50\n",
        "if x%2==0:\n",
        "    print('even')\n",
        "else:\n",
        "    print('odd')"
      ]
    },
    {
      "cell_type": "markdown",
      "metadata": {
        "id": "Dm6wpSP0UIX0"
      },
      "source": [
        "(a) <br>\n",
        "x=50<br>\n",
        "print(('odd', 'even')[x%2==0])\n",
        "\n",
        "(b)<br>\n",
        "x=50 <br>\n",
        "if x%2==0 print('even')   else   print('odd')\n",
        "\n",
        "(c) <br>\n",
        "x=50 <br>\n",
        "print('even') if x%2==0    else   print('odd')\n",
        "\n",
        "(d) <br>\n",
        "x=50 <br>\n",
        "if x%2==0 print('even')   print('odd') else   \n",
        "\n",
        "(e)<br>\n",
        "a&c"
      ]
    },
    {
      "cell_type": "code",
      "execution_count": null,
      "metadata": {
        "id": "LnaGF8z7UIX1"
      },
      "outputs": [],
      "source": [
        "x=[1, 2, 3, 4, 5]\n",
        "for i in range(len(x)):\n",
        "    print(x[i])"
      ]
    },
    {
      "cell_type": "markdown",
      "metadata": {
        "id": "yZ46j_bcUIX3"
      },
      "source": [
        "(a)\n",
        "<br>\n",
        "x=[1, 2, 3, 4, 5]\n",
        "<br>\n",
        "for i in x:\n",
        "<br>\n",
        "$\\;\\;\\;\\;$ print(i)\n",
        "    \n",
        "(b)\n",
        "<br>\n",
        "x=[1, 2, 3, 4, 5] <br>\n",
        "for i in x:<br>\n",
        "$\\;\\;\\;\\;$    print(x)\n",
        "    \n",
        "(c)<br>\n",
        "x=[1, 2, 3, 4, 5]<br>\n",
        "for i in range(len(x)):<br>\n",
        "$\\;\\;\\;\\;$ print(i)\n",
        "    \n",
        "(d) <br>\n",
        "x=[1, 2, 3, 4, 5]\n",
        "<br>for i in range(len(x)):\n",
        "<br> $\\;\\;\\;\\;$print(x)"
      ]
    },
    {
      "cell_type": "markdown",
      "metadata": {
        "id": "gAw8qZnuUIX4"
      },
      "source": [
        "## What is the output of the following:"
      ]
    },
    {
      "cell_type": "code",
      "execution_count": null,
      "metadata": {
        "id": "ycjqw9iLUIX5"
      },
      "outputs": [],
      "source": [
        "a=5\n",
        "A='hello'\n",
        "a=10\n",
        "print(A)"
      ]
    },
    {
      "cell_type": "markdown",
      "metadata": {
        "id": "DhaExA8cUIX5"
      },
      "source": [
        "(a) hello \n",
        "\n",
        "(b) 10        \n",
        "\n",
        "(c) 5      \n",
        "\n",
        "(d) A"
      ]
    },
    {
      "cell_type": "code",
      "execution_count": null,
      "metadata": {
        "id": "dSSQ8UhwUIX6"
      },
      "outputs": [],
      "source": [
        "x=[1, 2, 3, 4, 5]\n",
        "for i in x:\n",
        "    print(i)"
      ]
    },
    {
      "cell_type": "markdown",
      "metadata": {
        "id": "Mwg5JGs1UIX7"
      },
      "source": [
        "(a) <br>\n",
        "1   2   3   4   5\n",
        "\n",
        "(b) <br>\n",
        "[1, 2, 3, 4, 5] <br>\n",
        "[1, 2, 3, 4, 5] <br>\n",
        "[1, 2, 3, 4, 5]<br>\n",
        "[1, 2, 3, 4, 5]<br>\n",
        "[1, 2, 3, 4 ,5]\n",
        "\n",
        "(c)<br>\n",
        "0  1  2  3  4\n",
        "\n",
        "(d) <br>\n",
        "i  i  i  i  i"
      ]
    },
    {
      "cell_type": "code",
      "execution_count": null,
      "metadata": {
        "id": "M_hWXWsJUIX8"
      },
      "outputs": [],
      "source": [
        "x={'a':12, 'b':45}\n",
        "for k, v in x.items():\n",
        "    print(k, v)"
      ]
    },
    {
      "cell_type": "markdown",
      "metadata": {
        "id": "99fsvKL6UIX9"
      },
      "source": [
        "(a)\n",
        "a  12\n",
        "b  45\n",
        "\n",
        "(b) \n",
        "a\n",
        "b\n",
        "\n",
        "(c)\n",
        "12\n",
        "45\n",
        "\n",
        "(d)\n",
        "a&c"
      ]
    },
    {
      "cell_type": "code",
      "execution_count": null,
      "metadata": {
        "id": "AaI5Zz66UIX9"
      },
      "outputs": [],
      "source": [
        "x={'a':12, 'b': 45}\n",
        "for k in x:\n",
        "    print(k, x[k])"
      ]
    },
    {
      "cell_type": "markdown",
      "metadata": {
        "id": "9YufpHq1UIX-"
      },
      "source": [
        "(a)<br>\n",
        "a   12<br>\n",
        "b   45\n",
        "\n",
        "(b) <br>\n",
        "a<br>\n",
        "b\n",
        "\n",
        "(c)<br>\n",
        "12  <br>\n",
        "45\n",
        "\n",
        "(d) <br>\n",
        "a&c\n"
      ]
    },
    {
      "cell_type": "code",
      "execution_count": null,
      "metadata": {
        "id": "YvJFRg5xUIX-"
      },
      "outputs": [],
      "source": [
        "s={1, 2, 2, 2, 3}\n",
        "print(s)"
      ]
    },
    {
      "cell_type": "markdown",
      "metadata": {
        "id": "s0SxoyIhUIX-"
      },
      "source": [
        "(a) {1, 2, 3}\n",
        "\n",
        "(b) {1, 2, 2, 2, 3}\n",
        "\n",
        "(c) {2}\n",
        "\n",
        "(d) {1, 3}"
      ]
    },
    {
      "cell_type": "code",
      "execution_count": null,
      "metadata": {
        "id": "6BzOcqdEUIX_"
      },
      "outputs": [],
      "source": [
        "#print('hello')   this is a comment"
      ]
    },
    {
      "cell_type": "markdown",
      "metadata": {
        "id": "sMF_KFYVUIX_"
      },
      "source": [
        "(a) hello\n",
        "\n",
        "(b) error\n",
        "\n",
        "(c) no output\n",
        "\n",
        "(d) hello this is a comment"
      ]
    },
    {
      "cell_type": "code",
      "execution_count": null,
      "metadata": {
        "id": "TauWi-qvUIYA"
      },
      "outputs": [],
      "source": [
        "def fun (*arg):\n",
        "    x=len(arg)\n",
        "    for i in range(x):\n",
        "         print(arg[i])\n",
        "fun(2, 3, 4, 5)"
      ]
    },
    {
      "cell_type": "markdown",
      "metadata": {
        "id": "STiCVvcYUIYA"
      },
      "source": [
        "(a) 4  4  4  4\n",
        "\n",
        "(b) 2  3  4  5  \n",
        "\n",
        "(c)  4\n",
        "\n",
        "(d) 0  1  2  3  "
      ]
    },
    {
      "cell_type": "code",
      "execution_count": null,
      "metadata": {
        "id": "wAfOkdZ8UIYB"
      },
      "outputs": [],
      "source": [
        "def fun (*arg):\n",
        "    x=len(arg)\n",
        "    print(x, type(arg))\n",
        "fun(2, 3, 4, 5)"
      ]
    },
    {
      "cell_type": "markdown",
      "metadata": {
        "id": "8iT_YVFiUIYB"
      },
      "source": [
        "(a) 2  dictionary\n",
        "\n",
        "(b) 2  set\n",
        "\n",
        "(c) 4  float\n",
        "\n",
        "(c) 4  tuple"
      ]
    },
    {
      "cell_type": "code",
      "execution_count": null,
      "metadata": {
        "id": "FgBLN0LbUIYC"
      },
      "outputs": [],
      "source": [
        "def fun (**arg):\n",
        "    x=len(arg)\n",
        "    print(x, type(arg))\n",
        "fun(a=2, b=3, c=4, d=5)"
      ]
    },
    {
      "cell_type": "markdown",
      "metadata": {
        "id": "gYB8egw7UIYC"
      },
      "source": [
        "(a) 0  tuple\n",
        "\n",
        "(b) 4 dictonary\n",
        "\n",
        "(c) 4 set\n",
        "\n",
        "(d) 0 list"
      ]
    },
    {
      "cell_type": "code",
      "execution_count": null,
      "metadata": {
        "id": "IfTEiRtDUIYD"
      },
      "outputs": [],
      "source": [
        "def fun (a, b, c):\n",
        "    print(c)\n",
        "    print(a)\n",
        "    print(b)\n",
        "\n",
        "fun(b=23, c='hi', a=[1, 2, 3])"
      ]
    },
    {
      "cell_type": "markdown",
      "metadata": {
        "id": "Z_yxdatoUIYD"
      },
      "source": [
        "(a)<br>\n",
        "23<br>\n",
        "hi<br>\n",
        "1 $\\;\\;$ 2 $\\;\\;$ 3\n",
        "\n",
        "(b)<br>\n",
        "1 $\\;\\;$2 $\\;\\;$ 3<br>\n",
        "23 <br>\n",
        "hi\n",
        "\n",
        "(c)<br>\n",
        "hi <br>\n",
        "1$\\;\\;$2$\\;\\;$3 <br>\n",
        "23\n",
        "\n",
        "(d)<br>\n",
        "23<br>\n",
        "1$\\;\\;$ 2$\\;\\;$3 <br>\n",
        "hi"
      ]
    },
    {
      "cell_type": "code",
      "execution_count": null,
      "metadata": {
        "id": "q5QfIrdqUIYD"
      },
      "outputs": [],
      "source": [
        "def fun (a, b, c=34):\n",
        "    print(c)\n",
        "    print(a)\n",
        "    print(b)\n",
        "\n",
        "fun(13, 0)"
      ]
    },
    {
      "cell_type": "markdown",
      "metadata": {
        "id": "rbsHYlbWUIYE"
      },
      "source": [
        "(a) 34   13  0\n",
        "\n",
        "(b) error\n",
        "\n",
        "(c) 13  0\n",
        "\n",
        "(d)  a&c"
      ]
    },
    {
      "cell_type": "code",
      "execution_count": null,
      "metadata": {
        "id": "9Ytg_XFqUIYE"
      },
      "outputs": [],
      "source": [
        "for i in range(3):\n",
        "    if i==1:\n",
        "        break\n",
        "    print(i)\n",
        "else:\n",
        "    print('other')"
      ]
    },
    {
      "cell_type": "markdown",
      "metadata": {
        "id": "-Za334ERUIYE"
      },
      "source": [
        "(a) 0  other\n",
        "\n",
        "(b) 0  \n",
        "\n",
        "(c) 0  1  2 other\n",
        "\n",
        "(d) 0  1  2"
      ]
    },
    {
      "cell_type": "code",
      "execution_count": null,
      "metadata": {
        "id": "osqcvDyrUIYE"
      },
      "outputs": [],
      "source": [
        "for i in range(3):\n",
        "    if i==1:\n",
        "        continue\n",
        "    print(i)\n",
        "else:\n",
        "    print('other')"
      ]
    },
    {
      "cell_type": "markdown",
      "metadata": {
        "id": "Iu-38m8lUIYF"
      },
      "source": [
        "(a) 0  2  other\n",
        "\n",
        "(b) 0  1  2  other\n",
        "\n",
        "(c) 0  2  \n",
        "\n",
        "(d)  0  1  2 "
      ]
    },
    {
      "cell_type": "code",
      "execution_count": null,
      "metadata": {
        "id": "SJjgPflyUIYF"
      },
      "outputs": [],
      "source": [
        "for i in range(3):\n",
        "    if i==1:\n",
        "        break\n",
        "    print(i)"
      ]
    },
    {
      "cell_type": "markdown",
      "metadata": {
        "id": "AzgVkn-bUIYG"
      },
      "source": [
        "(a)  0\n",
        "\n",
        "(b)  0  1  \n",
        "\n",
        "(c)  0  1  2\n",
        "\n",
        "(d)  0  2"
      ]
    },
    {
      "cell_type": "code",
      "execution_count": null,
      "metadata": {
        "id": "dexm-gARUIYG"
      },
      "outputs": [],
      "source": [
        "for i in range(3):\n",
        "    if i==1:\n",
        "        continue\n",
        "    print(i)"
      ]
    },
    {
      "cell_type": "markdown",
      "metadata": {
        "id": "9nzHvTVKUIYG"
      },
      "source": [
        "(a)  0  1  2\n",
        "\n",
        "(b)  0  1\n",
        "\n",
        "(c)  0  2\n",
        "\n",
        "(d)  1  2"
      ]
    },
    {
      "cell_type": "code",
      "execution_count": null,
      "metadata": {
        "id": "CwHonJabUIYH"
      },
      "outputs": [],
      "source": [
        "for i in range(3):\n",
        "    print(i)\n",
        "else:\n",
        "    print('other')"
      ]
    },
    {
      "cell_type": "markdown",
      "metadata": {
        "id": "5W7MQrrSUIYH"
      },
      "source": [
        "(a) 0  1  2  other\n",
        "\n",
        "(b) 0  1  2\n",
        "\n",
        "(c) other\n",
        "\n",
        "(d) 3 other"
      ]
    },
    {
      "cell_type": "code",
      "execution_count": null,
      "metadata": {
        "id": "jdA3sBsJUIYH"
      },
      "outputs": [],
      "source": [
        "for i in range(3):\n",
        "    print(i)"
      ]
    },
    {
      "cell_type": "markdown",
      "metadata": {
        "id": "wKWGB48ZUIYH"
      },
      "source": [
        "(a) 0  1  2\n",
        "\n",
        "(b) 0  1  2  3\n",
        "\n",
        "(c) 1  2  3\n",
        "\n",
        "(d) i  i  i"
      ]
    },
    {
      "cell_type": "code",
      "execution_count": null,
      "metadata": {
        "id": "Jnc9gAjRUIYI"
      },
      "outputs": [],
      "source": [
        "x=lambda a, b:a+b\n",
        "print(x(1, 2))"
      ]
    },
    {
      "cell_type": "markdown",
      "metadata": {
        "id": "u179qv1EUIYI"
      },
      "source": [
        "(a) 1\n",
        "\n",
        "(b) 2\n",
        "\n",
        "(c) 3\n",
        "\n",
        "(d) 0"
      ]
    },
    {
      "cell_type": "markdown",
      "metadata": {
        "id": "gsIfjpIrUIYI"
      },
      "source": [
        "## Choose the error line number in each of the following:"
      ]
    },
    {
      "cell_type": "code",
      "execution_count": null,
      "metadata": {
        "id": "alaeHAlLUIYJ"
      },
      "outputs": [],
      "source": [
        "1. def foo(x, y, z=[], w):\n",
        "2.     return x+y*w\n",
        "\n",
        "3. a=10\n",
        "4. print(foo(a, 1, 4))"
      ]
    },
    {
      "cell_type": "markdown",
      "metadata": {
        "id": "KdN8t-r_UIYJ"
      },
      "source": [
        "(a) line 1\n",
        "\n",
        "(b) line 2\n",
        "\n",
        "(c) line 3\n",
        "\n",
        "(d) line 4"
      ]
    },
    {
      "cell_type": "code",
      "execution_count": null,
      "metadata": {
        "id": "15eovsbiUIYJ"
      },
      "outputs": [],
      "source": [
        "1. def fun(*nums, x):\n",
        "2.     for i in nums:\n",
        "3.         print(i)\n",
        "\n",
        "4. fun(2, 3, 6, 9)\n"
      ]
    },
    {
      "cell_type": "markdown",
      "metadata": {
        "id": "8gkJyMHzUIYK"
      },
      "source": [
        "(a) line 1\n",
        "\n",
        "(b) line 2\n",
        "\n",
        "(c) line 3\n",
        "\n",
        "(d) line 4"
      ]
    },
    {
      "cell_type": "code",
      "execution_count": null,
      "metadata": {
        "id": "2WgF2lpmUIYK"
      },
      "outputs": [],
      "source": [
        "1. x=10\n",
        "2. if x%2==0:\n",
        "3.    print(\"even number\")\n",
        "4. else:\n",
        "5.    break"
      ]
    },
    {
      "cell_type": "markdown",
      "metadata": {
        "id": "zIBRARAaUIYL"
      },
      "source": [
        "(a) line 2\n",
        "\n",
        "(b) line 3\n",
        "\n",
        "(c) line 4\n",
        "\n",
        "(d) line 5"
      ]
    },
    {
      "cell_type": "code",
      "source": [
        "1. c=[1, 2, 3, 4]\n",
        "2. for i in reversed(range(len(c))):\n",
        "3.   print(i)\n",
        "4. else:\n",
        "5.   break"
      ],
      "metadata": {
        "id": "cCldpgg4ZPXW"
      },
      "execution_count": null,
      "outputs": []
    },
    {
      "cell_type": "markdown",
      "metadata": {
        "id": "Z4OP5ZkUUIYL"
      },
      "source": [
        "(a) line 2\n",
        "\n",
        "(b) line 3\n",
        "\n",
        "(c) line 4\n",
        "\n",
        "(d) line 5"
      ]
    },
    {
      "cell_type": "code",
      "execution_count": null,
      "metadata": {
        "id": "rFLhPhYyUIYL"
      },
      "outputs": [],
      "source": [
        "1. def cal_l(a, b, c):\n",
        "2.     l=a*b-c\n",
        "3.     return l\n",
        "         \n",
        "4. cal_l(3, 4, 6, 0) "
      ]
    },
    {
      "cell_type": "markdown",
      "metadata": {
        "id": "E8YuxBj6UIYM"
      },
      "source": [
        "(a)  line 1\n",
        "\n",
        "(b) line 2\n",
        "\n",
        "(c) line 3\n",
        "\n",
        "(d) line 4"
      ]
    },
    {
      "cell_type": "code",
      "execution_count": null,
      "metadata": {
        "id": "uTUtzt1oUIYM"
      },
      "outputs": [],
      "source": [
        "1. def cal_l(a, b, c, d):\n",
        "2.     l=a*b-c\n",
        "3.     return l\n",
        "         \n",
        "4. cal_l(3, 4, c=6, 0) "
      ]
    },
    {
      "cell_type": "markdown",
      "metadata": {
        "id": "LuNBul_GUIYM"
      },
      "source": [
        "(a)  line 1\n",
        "\n",
        "(b) line 2\n",
        "\n",
        "(c) line 3\n",
        "\n",
        "(d) line 4"
      ]
    },
    {
      "cell_type": "code",
      "execution_count": null,
      "metadata": {
        "id": "XJSwARiSUIYN"
      },
      "outputs": [],
      "source": [
        "1. x={10, 3, 6, 8}\n",
        "2. if x[0]==2:\n",
        "3.    print(\"yes\")\n",
        "4. else:\n",
        "5.    print(\"No\")"
      ]
    },
    {
      "cell_type": "markdown",
      "metadata": {
        "id": "w9wYUzINUIYN"
      },
      "source": [
        "(a) line 1\n",
        "\n",
        "(b) line 2\n",
        "\n",
        "(c) line 3\n",
        "\n",
        "(d) line 5"
      ]
    },
    {
      "cell_type": "code",
      "execution_count": null,
      "metadata": {
        "id": "Xo_GaiGzUIYN"
      },
      "outputs": [],
      "source": [
        "1. x=23\n",
        "2. y=87\n",
        "\n",
        "3. print(z)\n",
        "4. z=4"
      ]
    },
    {
      "cell_type": "markdown",
      "metadata": {
        "id": "ITxb--iWUIYN"
      },
      "source": [
        "(a) line 1\n",
        "\n",
        "(b) line 2\n",
        "\n",
        "(c) line 3\n",
        "\n",
        "(d) line 4"
      ]
    },
    {
      "cell_type": "markdown",
      "metadata": {
        "id": "y_YNe729UIYP"
      },
      "source": [
        "## What is the output of the following:"
      ]
    },
    {
      "cell_type": "code",
      "execution_count": null,
      "metadata": {
        "id": "nX6k73UtUIYT"
      },
      "outputs": [],
      "source": [
        "x=[1, 2, 3]\n",
        "y=x\n",
        "if(id(y)==id(x)):\n",
        "    print('same')\n",
        "else:\n",
        "    print('different')"
      ]
    },
    {
      "cell_type": "markdown",
      "metadata": {
        "id": "nTp4OeVhUIYT"
      },
      "source": [
        "(a) same\n",
        "\n",
        "(b) different\n",
        "\n",
        "(c) 123345432\n",
        "\n",
        "(d) error"
      ]
    },
    {
      "cell_type": "code",
      "execution_count": null,
      "metadata": {
        "id": "ux1Z7bQAUIYT"
      },
      "outputs": [],
      "source": [
        "x=[1, 2, 3]\n",
        "y=x[:]\n",
        "if(id(y)==id(x)):\n",
        "    print('same')\n",
        "else:\n",
        "    print('different')"
      ]
    },
    {
      "cell_type": "markdown",
      "metadata": {
        "id": "qDhBFxx_UIYT"
      },
      "source": [
        "(a) same\n",
        "\n",
        "(b) different\n",
        "\n",
        "(c) 123345432\n",
        "\n",
        "(d) error"
      ]
    }
  ],
  "metadata": {
    "kernelspec": {
      "display_name": "Python 3",
      "language": "python",
      "name": "python3"
    },
    "language_info": {
      "codemirror_mode": {
        "name": "ipython",
        "version": 3
      },
      "file_extension": ".py",
      "mimetype": "text/x-python",
      "name": "python",
      "nbconvert_exporter": "python",
      "pygments_lexer": "ipython3",
      "version": "3.7.6"
    },
    "colab": {
      "name": "Copy of Revision Sheet.ipynb",
      "provenance": [],
      "include_colab_link": true
    }
  },
  "nbformat": 4,
  "nbformat_minor": 0
}