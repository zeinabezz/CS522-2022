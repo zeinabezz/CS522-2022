{
  "cells": [
    {
      "cell_type": "markdown",
      "metadata": {
        "id": "view-in-github",
        "colab_type": "text"
      },
      "source": [
        "<a href=\"https://colab.research.google.com/github/zeinabezz/CS522-2022/blob/main/Implement_List_functions.ipynb\" target=\"_parent\"><img src=\"https://colab.research.google.com/assets/colab-badge.svg\" alt=\"Open In Colab\"/></a>"
      ]
    },
    {
      "cell_type": "code",
      "source": [
        "#merge two lists in new list\n",
        "l=[1, 6, 8]\n",
        "s=['d', 'h']\n",
        "m=l[:]\n",
        "m[len(m):]=s[:]\n",
        "print('s', s)\n",
        "print('l', l)\n",
        "print('m', m)"
      ],
      "metadata": {
        "colab": {
          "base_uri": "https://localhost:8080/"
        },
        "id": "xEVOiC2b0lX5",
        "outputId": "f4d2c0e4-7316-41a7-eb0c-90c62645bf43"
      },
      "execution_count": null,
      "outputs": [
        {
          "output_type": "stream",
          "name": "stdout",
          "text": [
            "s ['d', 'h']\n",
            "l [1, 6, 8]\n",
            "m [1, 6, 8, 'd', 'h']\n"
          ]
        }
      ]
    },
    {
      "cell_type": "code",
      "source": [
        "#merge two lists in new list\n",
        "l=[1, 6, 8]\n",
        "s=['d', 'h']\n",
        "m[:]=l          #m=l[:]   #NOT m=l\n",
        "for x in s:\n",
        "  m.append(x)\n",
        "print('s', s)\n",
        "print('l', l)\n",
        "print('m', m)"
      ],
      "metadata": {
        "id": "0K8AmK4n212D",
        "outputId": "9c683bcd-5c6c-4fb9-b66a-c198a3dc2087",
        "colab": {
          "base_uri": "https://localhost:8080/"
        }
      },
      "execution_count": null,
      "outputs": [
        {
          "output_type": "stream",
          "name": "stdout",
          "text": [
            "s ['d', 'h']\n",
            "l [1, 6, 8]\n",
            "m [1, 6, 8, 'd', 'h']\n"
          ]
        }
      ]
    },
    {
      "cell_type": "code",
      "source": [
        "#merge two lists in the first list\n",
        "l=[1, 6, 8]\n",
        "s=['d', 'h']\n",
        "l[len(l):]=s\n",
        "print('s', s)\n",
        "print('l', l)"
      ],
      "metadata": {
        "colab": {
          "base_uri": "https://localhost:8080/"
        },
        "id": "qf1o0xcn2U9f",
        "outputId": "2b8a0d96-930c-4cbf-c31a-406b8f7fa0bf"
      },
      "execution_count": null,
      "outputs": [
        {
          "output_type": "stream",
          "name": "stdout",
          "text": [
            "s ['d', 'h']\n",
            "l [1, 6, 8, 'd', 'h']\n"
          ]
        }
      ]
    },
    {
      "cell_type": "code",
      "source": [
        "#merge two lists in the first list\n",
        "l=[1, 6, 8]\n",
        "s=['d', 'h']\n",
        "for x in s:\n",
        "  l.append(x)\n",
        "print('s', s)\n",
        "print('l', l)"
      ],
      "metadata": {
        "colab": {
          "base_uri": "https://localhost:8080/"
        },
        "id": "EEV54nie3n5l",
        "outputId": "01a60fd2-95ec-43a8-eb87-d8596bf70728"
      },
      "execution_count": null,
      "outputs": [
        {
          "output_type": "stream",
          "name": "stdout",
          "text": [
            "s ['d', 'h']\n",
            "l [1, 6, 8, 'd', 'h']\n"
          ]
        }
      ]
    },
    {
      "cell_type": "code",
      "source": [
        "#merge two lists in the first list\n",
        "l=[1, 6, 8]\n",
        "s=['d', 'h']\n",
        "for x in s:\n",
        "  l[len(l):]=[x]\n",
        "print('s', s)\n",
        "print('l', l)"
      ],
      "metadata": {
        "id": "5XKT9Yw946u1",
        "outputId": "a1cb5f03-595b-4bd1-eb4a-70954c66b26d",
        "colab": {
          "base_uri": "https://localhost:8080/"
        }
      },
      "execution_count": null,
      "outputs": [
        {
          "output_type": "stream",
          "name": "stdout",
          "text": [
            "s ['d', 'h']\n",
            "l [1, 6, 8, 'd', 'h']\n"
          ]
        }
      ]
    },
    {
      "cell_type": "code",
      "source": [
        "#search an item in a list\n",
        "l=[1, 6, 8]\n",
        "val=input(\"enter the value to search it\")\n",
        "if val.isdigit() : val=int(val)\n",
        "for i in range (len(l)):\n",
        "  if l[i] == val: \n",
        "    print('found in index ', i)\n",
        "    break\n",
        "else: print ('item is not found')\n",
        "\n"
      ],
      "metadata": {
        "id": "wFxgeuh1-GB9",
        "outputId": "88a390d0-56d2-49d4-dce3-bc3929eee1b8",
        "colab": {
          "base_uri": "https://localhost:8080/"
        }
      },
      "execution_count": null,
      "outputs": [
        {
          "output_type": "stream",
          "name": "stdout",
          "text": [
            "enter the value to search it6\n",
            "found in index  1\n"
          ]
        }
      ]
    },
    {
      "cell_type": "code",
      "source": [
        "# count the occurance of an item in a list\n",
        "l=[1, 6, 8, 6]\n",
        "val=input(\"enter the value to search it\")\n",
        "if val.isdigit() : val=int(val)\n",
        "count=0\n",
        "for i in range (len(l)):\n",
        "  if l[i] == val: \n",
        "    count+=1\n",
        "    \n",
        "print(count)"
      ],
      "metadata": {
        "id": "wHfc759u-jnK",
        "outputId": "ddc381ca-1456-4f04-a295-709854f72cad",
        "colab": {
          "base_uri": "https://localhost:8080/"
        }
      },
      "execution_count": null,
      "outputs": [
        {
          "output_type": "stream",
          "name": "stdout",
          "text": [
            "enter the value to search it6\n",
            "2\n"
          ]
        }
      ]
    }
  ],
  "metadata": {
    "colab": {
      "collapsed_sections": [],
      "name": "Implement List functions ",
      "provenance": [],
      "include_colab_link": true
    },
    "kernelspec": {
      "display_name": "Python 3",
      "name": "python3"
    }
  },
  "nbformat": 4,
  "nbformat_minor": 0
}