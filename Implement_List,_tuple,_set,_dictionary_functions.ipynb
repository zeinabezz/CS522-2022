{
  "cells": [
    {
      "cell_type": "markdown",
      "metadata": {
        "id": "view-in-github",
        "colab_type": "text"
      },
      "source": [
        "<a href=\"https://colab.research.google.com/github/zeinabezz/CS522-2022/blob/main/Implement_List%2C_tuple%2C_set%2C_dictionary_functions.ipynb\" target=\"_parent\"><img src=\"https://colab.research.google.com/assets/colab-badge.svg\" alt=\"Open In Colab\"/></a>"
      ]
    },
    {
      "cell_type": "code",
      "source": [
        "# print a list\n",
        "l=[1, 6, 8]\n",
        "for x in l:\n",
        "  print(x)"
      ],
      "metadata": {
        "colab": {
          "base_uri": "https://localhost:8080/"
        },
        "id": "P1rcm9w0cfAE",
        "outputId": "6d4c817f-541a-4ef0-90ae-740c772da7d7"
      },
      "execution_count": null,
      "outputs": [
        {
          "output_type": "stream",
          "name": "stdout",
          "text": [
            "1\n",
            "6\n",
            "8\n"
          ]
        }
      ]
    },
    {
      "cell_type": "code",
      "source": [
        "# print a list\n",
        "l=[1, 6, 8]\n",
        "for i in range(len(l)):\n",
        "  print(l[i])"
      ],
      "metadata": {
        "colab": {
          "base_uri": "https://localhost:8080/"
        },
        "id": "fb2uNV7Pc2PH",
        "outputId": "df461d18-aaf2-4c4d-895f-114e0f5dcd1d"
      },
      "execution_count": null,
      "outputs": [
        {
          "output_type": "stream",
          "name": "stdout",
          "text": [
            "1\n",
            "6\n",
            "8\n"
          ]
        }
      ]
    },
    {
      "cell_type": "code",
      "source": [
        "# print a list in a reverse order\n",
        "l=[1, 6, 8]\n",
        "for i in range(-1, -1*(len(l) +1), -1):\n",
        "  print(l[i])"
      ],
      "metadata": {
        "colab": {
          "base_uri": "https://localhost:8080/"
        },
        "id": "JCdVb5oldDJz",
        "outputId": "e63dd318-7234-454f-e5e1-5187c592e2b3"
      },
      "execution_count": null,
      "outputs": [
        {
          "output_type": "stream",
          "name": "stdout",
          "text": [
            "8\n",
            "6\n",
            "1\n"
          ]
        }
      ]
    },
    {
      "cell_type": "code",
      "source": [
        "# print a list in a reverse order\n",
        "l=[1, 6, 8]\n",
        "for i in range( len(l) -1, -1, -1):\n",
        "  print(l[i])"
      ],
      "metadata": {
        "colab": {
          "base_uri": "https://localhost:8080/"
        },
        "id": "DGcWsQWyd4Bw",
        "outputId": "74bc3383-9c2d-4069-9b72-85865a8e4f11"
      },
      "execution_count": null,
      "outputs": [
        {
          "output_type": "stream",
          "name": "stdout",
          "text": [
            "8\n",
            "6\n",
            "1\n"
          ]
        }
      ]
    },
    {
      "cell_type": "code",
      "source": [
        "# print a list in a reverse order\n",
        "l=[1, 6, 8]\n",
        "for i in reversed(range(len(l))):\n",
        "  print(l[i])"
      ],
      "metadata": {
        "colab": {
          "base_uri": "https://localhost:8080/"
        },
        "id": "04mf_KV5ksVD",
        "outputId": "79e07fe1-ada5-45c9-87b4-dea746354907"
      },
      "execution_count": null,
      "outputs": [
        {
          "output_type": "stream",
          "name": "stdout",
          "text": [
            "8\n",
            "6\n",
            "1\n"
          ]
        }
      ]
    },
    {
      "cell_type": "code",
      "source": [
        "#merge two lists in new list\n",
        "l=[1, 6, 8]\n",
        "s=['d', 'h']\n",
        "m=l[:]\n",
        "m[len(m):]=s[:]\n",
        "print('s', s)\n",
        "print('l', l)\n",
        "print('m', m)"
      ],
      "metadata": {
        "colab": {
          "base_uri": "https://localhost:8080/"
        },
        "id": "xEVOiC2b0lX5",
        "outputId": "f4d2c0e4-7316-41a7-eb0c-90c62645bf43"
      },
      "execution_count": null,
      "outputs": [
        {
          "output_type": "stream",
          "name": "stdout",
          "text": [
            "s ['d', 'h']\n",
            "l [1, 6, 8]\n",
            "m [1, 6, 8, 'd', 'h']\n"
          ]
        }
      ]
    },
    {
      "cell_type": "code",
      "source": [
        "#merge two lists in new list\n",
        "l=[1, 6, 8]\n",
        "s=['d', 'h']\n",
        "m[:]=l          #m=l[:]   #NOT m=l\n",
        "for x in s:\n",
        "  m.append(x)\n",
        "print('s', s)\n",
        "print('l', l)\n",
        "print('m', m)"
      ],
      "metadata": {
        "id": "0K8AmK4n212D",
        "outputId": "9c683bcd-5c6c-4fb9-b66a-c198a3dc2087",
        "colab": {
          "base_uri": "https://localhost:8080/"
        }
      },
      "execution_count": null,
      "outputs": [
        {
          "output_type": "stream",
          "name": "stdout",
          "text": [
            "s ['d', 'h']\n",
            "l [1, 6, 8]\n",
            "m [1, 6, 8, 'd', 'h']\n"
          ]
        }
      ]
    },
    {
      "cell_type": "code",
      "source": [
        "#merge two lists in the first list\n",
        "l=[1, 6, 8]\n",
        "s=['d', 'h']\n",
        "l[len(l):]=s\n",
        "print('s', s)\n",
        "print('l', l)"
      ],
      "metadata": {
        "colab": {
          "base_uri": "https://localhost:8080/"
        },
        "id": "qf1o0xcn2U9f",
        "outputId": "2b8a0d96-930c-4cbf-c31a-406b8f7fa0bf"
      },
      "execution_count": null,
      "outputs": [
        {
          "output_type": "stream",
          "name": "stdout",
          "text": [
            "s ['d', 'h']\n",
            "l [1, 6, 8, 'd', 'h']\n"
          ]
        }
      ]
    },
    {
      "cell_type": "code",
      "source": [
        "#merge two lists in the first list\n",
        "l=[1, 6, 8]\n",
        "s=['d', 'h']\n",
        "for x in s:\n",
        "  l.append(x)\n",
        "print('s', s)\n",
        "print('l', l)"
      ],
      "metadata": {
        "colab": {
          "base_uri": "https://localhost:8080/"
        },
        "id": "EEV54nie3n5l",
        "outputId": "01a60fd2-95ec-43a8-eb87-d8596bf70728"
      },
      "execution_count": null,
      "outputs": [
        {
          "output_type": "stream",
          "name": "stdout",
          "text": [
            "s ['d', 'h']\n",
            "l [1, 6, 8, 'd', 'h']\n"
          ]
        }
      ]
    },
    {
      "cell_type": "code",
      "source": [
        "#merge two lists in the first list\n",
        "l=[1, 6, 8]\n",
        "s=['d', 'h']\n",
        "for x in s:\n",
        "  l[len(l):]=[x]\n",
        "print('s', s)\n",
        "print('l', l)"
      ],
      "metadata": {
        "id": "5XKT9Yw946u1",
        "outputId": "a1cb5f03-595b-4bd1-eb4a-70954c66b26d",
        "colab": {
          "base_uri": "https://localhost:8080/"
        }
      },
      "execution_count": null,
      "outputs": [
        {
          "output_type": "stream",
          "name": "stdout",
          "text": [
            "s ['d', 'h']\n",
            "l [1, 6, 8, 'd', 'h']\n"
          ]
        }
      ]
    },
    {
      "cell_type": "code",
      "source": [
        "#search an item in a list\n",
        "l=[1, 6, 8]\n",
        "val=input(\"enter the value to search it\")\n",
        "if val.isdigit() : val=int(val)\n",
        "for i in range (len(l)):\n",
        "  if l[i] == val: \n",
        "    print('found in index ', i)\n",
        "    break\n",
        "else: print ('item is not found')\n",
        "\n"
      ],
      "metadata": {
        "id": "wFxgeuh1-GB9",
        "outputId": "88a390d0-56d2-49d4-dce3-bc3929eee1b8",
        "colab": {
          "base_uri": "https://localhost:8080/"
        }
      },
      "execution_count": null,
      "outputs": [
        {
          "output_type": "stream",
          "name": "stdout",
          "text": [
            "enter the value to search it6\n",
            "found in index  1\n"
          ]
        }
      ]
    },
    {
      "cell_type": "code",
      "source": [
        "\n",
        "# count the occurance of an item in a list\n",
        "l=[1, 6, 8, 6]\n",
        "val=input(\"enter the value to search it: \")\n",
        "if val.isdigit() : val=int(val)\n",
        "count=0\n",
        "for i in range (len(l)):\n",
        "  if l[i] == val: \n",
        "    count+=1\n",
        "    \n",
        "print(count)"
      ],
      "metadata": {
        "id": "wHfc759u-jnK",
        "outputId": "9f0c52c4-3acf-4acf-acab-c7d142294c28",
        "colab": {
          "base_uri": "https://localhost:8080/"
        }
      },
      "execution_count": null,
      "outputs": [
        {
          "output_type": "stream",
          "name": "stdout",
          "text": [
            "enter the value to search it: 6\n",
            "2\n"
          ]
        }
      ]
    },
    {
      "cell_type": "code",
      "source": [
        "#sorting a list only incase of numbers\n",
        "l=[1, 0, 6, 5, -23, 12, 2, 10]\n",
        "\n",
        "for i in range(len(l)): \n",
        "  for j  in range(i+1, len(l)):\n",
        "    if l[j]< l[i]: l[i], l[j]=l[j], l[i]\n",
        "\n",
        "print(l)"
      ],
      "metadata": {
        "colab": {
          "base_uri": "https://localhost:8080/"
        },
        "id": "urAhCyIfTFqN",
        "outputId": "53fc7395-bcb6-4214-b8ed-67d4350e7265"
      },
      "execution_count": null,
      "outputs": [
        {
          "output_type": "stream",
          "name": "stdout",
          "text": [
            "[-23, 0, 1, 2, 5, 6, 10, 12]\n"
          ]
        }
      ]
    },
    {
      "cell_type": "markdown",
      "source": [
        "**Tuple**"
      ],
      "metadata": {
        "id": "O9IkGKJ4jkr8"
      }
    },
    {
      "cell_type": "code",
      "source": [
        "#create a tuple from user\n",
        "t=()\n",
        "val= input('enter the tuple value: ')\n",
        "if val.isdigit(): val=int(val)\n",
        "t+=(val,)\n",
        "while(True):\n",
        "  ch= input(\" Do you want to enter another value? y or n \")\n",
        "  if ch in ['y', 'Y', 'yes', 'Yes']:\n",
        "    val=input(\"enter the tuple value: \")\n",
        "    if val.isdigit(): val= int(val)\n",
        "    t+=(val,)\n",
        "  else: break\n",
        "\n",
        "print(t)\n"
      ],
      "metadata": {
        "colab": {
          "base_uri": "https://localhost:8080/"
        },
        "id": "dRMHZ6Q4eiWO",
        "outputId": "75ea0916-becd-49ec-b73a-a48402bc1af9"
      },
      "execution_count": null,
      "outputs": [
        {
          "output_type": "stream",
          "name": "stdout",
          "text": [
            "enter the tuple value: W\n",
            " Do you want to enter another value? y or n Yes\n",
            "enter the tuple value: 2\n",
            " Do you want to enter another value? y or n Y\n",
            "enter the tuple value: 456\n",
            " Do you want to enter another value? y or n Y\n",
            "enter the tuple value: We\n",
            " Do you want to enter another value? y or n Jh\n",
            "('W', 2, 456, 'We')\n"
          ]
        }
      ]
    },
    {
      "cell_type": "code",
      "source": [
        "#create a tuple from user\n",
        "t=()\n",
        "size= int(input('enter the tuple size: '))\n",
        "for i in range(size):\n",
        "    val=input(\"enter the tuple value: \")\n",
        "    if val.isdigit(): val= int(val)\n",
        "    t+=(val,)\n",
        "\n",
        "print(t)\n"
      ],
      "metadata": {
        "colab": {
          "base_uri": "https://localhost:8080/"
        },
        "id": "_tDM77sOjbMC",
        "outputId": "692a6558-2178-41b8-d338-12701f6ecbe3"
      },
      "execution_count": null,
      "outputs": [
        {
          "output_type": "stream",
          "name": "stdout",
          "text": [
            "enter the tuple siz: 4\n",
            "enter the tuple value: W\n",
            "enter the tuple value: 2\n",
            "enter the tuple value: 456\n",
            "enter the tuple value: We\n",
            "('W', 2, 456, 'We')\n"
          ]
        }
      ]
    },
    {
      "cell_type": "code",
      "source": [
        "#printing a tuple\n",
        "t=(1, 'we', 234)\n",
        "for x in t:\n",
        "  print(x)"
      ],
      "metadata": {
        "colab": {
          "base_uri": "https://localhost:8080/"
        },
        "id": "6oh1qcqekeB2",
        "outputId": "7cb18414-b0d1-4af7-d242-2f992360f3c9"
      },
      "execution_count": null,
      "outputs": [
        {
          "output_type": "stream",
          "name": "stdout",
          "text": [
            "1\n",
            "we\n",
            "234\n"
          ]
        }
      ]
    },
    {
      "cell_type": "code",
      "source": [
        "#printing a tuple\n",
        "t=(1, 'we', 234)\n",
        "for i in range(len(t)):\n",
        "  print(t[i])"
      ],
      "metadata": {
        "colab": {
          "base_uri": "https://localhost:8080/"
        },
        "id": "B6xKLppQkzcR",
        "outputId": "698950c0-2399-444a-b76c-34143346f508"
      },
      "execution_count": null,
      "outputs": [
        {
          "output_type": "stream",
          "name": "stdout",
          "text": [
            "1\n",
            "we\n",
            "234\n"
          ]
        }
      ]
    },
    {
      "cell_type": "code",
      "source": [
        "#merging two tuples in a new tuple\n",
        "t=(1, 2, 3)\n",
        "s=('a', 'b')\n",
        "m=t\n",
        "for i in range(len(s)):\n",
        "  m+=(s[i], )\n",
        "print('t', t)\n",
        "print('s', s)\n",
        "print('m', m)\n",
        " "
      ],
      "metadata": {
        "colab": {
          "base_uri": "https://localhost:8080/"
        },
        "id": "MWBl9eX0nqh2",
        "outputId": "9beb1d6c-a2a1-44c6-eed9-263cd77c68c1"
      },
      "execution_count": null,
      "outputs": [
        {
          "output_type": "stream",
          "name": "stdout",
          "text": [
            "t (1, 2, 3)\n",
            "s ('a', 'b')\n",
            "m (1, 2, 3, 'a', 'b')\n"
          ]
        }
      ]
    },
    {
      "cell_type": "code",
      "source": [
        "#merging two tuples in the first tupl\n",
        "t=(1, 2, 3)\n",
        "s=('a', 'b')\n",
        "for i in range(len(s)):\n",
        "  t+=(s[i], )\n",
        "print('t', t)\n",
        "print('s', s)\n",
        " "
      ],
      "metadata": {
        "colab": {
          "base_uri": "https://localhost:8080/"
        },
        "id": "OKfTB9Sh0Oiq",
        "outputId": "008a1cd4-d3a6-4357-aecd-02094acad007"
      },
      "execution_count": null,
      "outputs": [
        {
          "output_type": "stream",
          "name": "stdout",
          "text": [
            "t (1, 2, 3, 'a', 'b')\n",
            "s ('a', 'b')\n"
          ]
        }
      ]
    },
    {
      "cell_type": "code",
      "source": [
        "#count the occurence of an item in a tuple\n",
        "t=(1, 2, 'py', 3, 'py')\n",
        "count=0\n",
        "val=input(\"enter the value you want to count: \")\n",
        "if val.isdigit(): val=int(val)\n",
        "for x  in t:\n",
        "  if val==x: count+=1\n",
        "if count==0: print(\"the element you search for is not found\")\n",
        "else: print(count)"
      ],
      "metadata": {
        "colab": {
          "base_uri": "https://localhost:8080/"
        },
        "id": "sClTxy3hpuE1",
        "outputId": "08e602a6-40f5-4c89-b57f-b67dfb6dc0df"
      },
      "execution_count": null,
      "outputs": [
        {
          "output_type": "stream",
          "name": "stdout",
          "text": [
            "enter the value you want to count: 45\n",
            "the element you search for is not found\n"
          ]
        }
      ]
    },
    {
      "cell_type": "code",
      "source": [
        "#count the last  occurence of an item in a tuple\n",
        "t=(1, 2, 'py', 3, 'py')\n",
        "idx=-1\n",
        "val=input(\"enter the value you want to count: \")\n",
        "if val.isdigit(): val=int(val)\n",
        "for i in range(len(t)): \n",
        "  if val==t[i]: idx=i\n",
        "if idx==-1: print(\"the element you search for is not found\")\n",
        "else: print(idx)"
      ],
      "metadata": {
        "colab": {
          "base_uri": "https://localhost:8080/"
        },
        "id": "NsQow7IWrg1h",
        "outputId": "a7b1f4f0-fd55-49fb-bd27-a699aaef79cf"
      },
      "execution_count": null,
      "outputs": [
        {
          "output_type": "stream",
          "name": "stdout",
          "text": [
            "enter the value you want to count: 1\n",
            "0\n"
          ]
        }
      ]
    },
    {
      "cell_type": "code",
      "source": [
        "#count the last  occurence of an item in a tuple\n",
        "t=(1, 2, 'py', 3, 'py')\n",
        "\n",
        "val=input(\"enter the value you want to count: \")\n",
        "if val.isdigit(): val=int(val)\n",
        "for i in range(len(t)-1, -1, -1): \n",
        "  if val==t[i]: \n",
        "    print(i)\n",
        "    break\n",
        "else: print(\"the element you search for is not found\")"
      ],
      "metadata": {
        "colab": {
          "base_uri": "https://localhost:8080/"
        },
        "id": "uYp-DW0zthMx",
        "outputId": "007c9e24-4960-45c7-fd09-914969c9d5fe"
      },
      "execution_count": null,
      "outputs": [
        {
          "output_type": "stream",
          "name": "stdout",
          "text": [
            "enter the value you want to count: 1\n",
            "0\n"
          ]
        }
      ]
    },
    {
      "cell_type": "code",
      "source": [
        "#printing a tuple in a reverse order\n",
        "t=(1, 2, 3, 4, 5, 'py')\n",
        "for i in range(-1, -1*(len(t) +1), -1):\n",
        "  print(t[i])\n"
      ],
      "metadata": {
        "colab": {
          "base_uri": "https://localhost:8080/"
        },
        "id": "yjhPoXsMvMpP",
        "outputId": "9545b2a3-6428-41eb-f978-325c590c7099"
      },
      "execution_count": null,
      "outputs": [
        {
          "output_type": "stream",
          "name": "stdout",
          "text": [
            "py\n",
            "5\n",
            "4\n",
            "3\n",
            "2\n",
            "1\n"
          ]
        }
      ]
    },
    {
      "cell_type": "code",
      "source": [
        "#adding an item to a tuple\n",
        "t=(1, 4, 'we')\n",
        "val= input('enter the value: ')\n",
        "if val.isdigit(): val=int(val)\n",
        "t+=(val,)\n",
        "print(t)"
      ],
      "metadata": {
        "colab": {
          "base_uri": "https://localhost:8080/"
        },
        "id": "-izI7zk1xmZI",
        "outputId": "52665fae-84ee-42aa-a09a-ccff0173eefb"
      },
      "execution_count": null,
      "outputs": [
        {
          "output_type": "stream",
          "name": "stdout",
          "text": [
            "enter the value: 3433#23\n",
            "(1, 4, 'we', '3433#23')\n"
          ]
        }
      ]
    },
    {
      "cell_type": "code",
      "source": [
        "#insert value in a specific index in a tuple\n",
        "t=(1, 'rty')\n",
        "idx =int(input(\"enter the index: \"))\n",
        "val=input(\"enter the value: \")\n",
        "if val.isdigit(): val=int(val)\n",
        "t=t[:idx] + (val,) + t[idx:]\n",
        "print(t)"
      ],
      "metadata": {
        "colab": {
          "base_uri": "https://localhost:8080/"
        },
        "id": "qddV_-ni0k3n",
        "outputId": "7ae12dae-0e14-4f6c-83d6-76f874ca6b21"
      },
      "execution_count": null,
      "outputs": [
        {
          "output_type": "stream",
          "name": "stdout",
          "text": [
            "enter the index: 0\n",
            "enter the value: Tftf\n",
            "('Tftf', 1, 'rty')\n"
          ]
        }
      ]
    },
    {
      "cell_type": "code",
      "source": [
        "t=(2, 5)\n",
        "print(id(t))\n",
        "t+=(34,)\n",
        "print(id(t))\n",
        "\n",
        "#tuple is immutable, thus NO  tuple comprehension\n",
        "#------------------------\n",
        "s={1,3,5}\n",
        "print(id(s))\n",
        "s.add(78)\n",
        "print(id(s))\n",
        "# set is mutable, thus there is set comprehension"
      ],
      "metadata": {
        "colab": {
          "base_uri": "https://localhost:8080/"
        },
        "id": "HO_L6QHc-fnf",
        "outputId": "986a01a9-80b8-4459-cd91-64ac179f1ba4"
      },
      "execution_count": null,
      "outputs": [
        {
          "output_type": "stream",
          "name": "stdout",
          "text": [
            "140092367906368\n",
            "140092369008112\n",
            "140092575246288\n",
            "140092575246288\n"
          ]
        }
      ]
    },
    {
      "cell_type": "markdown",
      "source": [
        "**Set**\n"
      ],
      "metadata": {
        "id": "oSplLHRAi4k0"
      }
    },
    {
      "cell_type": "code",
      "source": [
        "#create a set from the user\n",
        "size=int(input('enter the set size: '))\n",
        "a=set()\n",
        "for i  in range(size):\n",
        "  val=input('enter the set value: ') \n",
        "  if val.isdigit(): val=int(val)\n",
        "  a.add(val)\n",
        "print (a)"
      ],
      "metadata": {
        "colab": {
          "base_uri": "https://localhost:8080/"
        },
        "id": "gBgLnvxDCW-f",
        "outputId": "3c8d72d9-a605-42d9-985c-60295cd390d6"
      },
      "execution_count": null,
      "outputs": [
        {
          "output_type": "stream",
          "name": "stdout",
          "text": [
            "enter the set size: 3\n",
            "enter the set value: Qwe\n",
            "enter the set value: 1234\n",
            "enter the set value: W\n",
            "{'Qwe', 1234, 'W'}\n"
          ]
        }
      ]
    },
    {
      "cell_type": "code",
      "source": [
        "#create a set from the user\n",
        "size=int(input('enter the set size: '))\n",
        "a={ input('enter the set value: ') for i  in range(size) }\n",
        "print (a)"
      ],
      "metadata": {
        "colab": {
          "base_uri": "https://localhost:8080/"
        },
        "id": "bkRAZ7oq2isK",
        "outputId": "35037bb2-1dfa-4ed1-ac91-3ece97879652"
      },
      "execution_count": null,
      "outputs": [
        {
          "output_type": "stream",
          "name": "stdout",
          "text": [
            "enter the set size: 2\n",
            "enter the set value: Fygffd\n",
            "enter the set value: 34554\n",
            "{'34554', 'Fygffd'}\n"
          ]
        }
      ]
    },
    {
      "cell_type": "code",
      "source": [
        "#merge two sets in a new set\n",
        "s={1,2,4,67,'er'}\n",
        "d={1,56,543,'asd'}\n",
        "m=set()\n",
        "for x in s:\n",
        "  m.add(x)\n",
        "for x in d:\n",
        "  m.add(x)\n",
        "\n",
        "\n",
        "print('m', m)\n",
        "print('s', s)\n",
        "print('d', d)"
      ],
      "metadata": {
        "colab": {
          "base_uri": "https://localhost:8080/"
        },
        "id": "UL0FfRKmEziQ",
        "outputId": "801b2ad0-3fb5-4e0a-de72-22715d48bb12"
      },
      "execution_count": null,
      "outputs": [
        {
          "output_type": "stream",
          "name": "stdout",
          "text": [
            "m {'asd', 1, 2, 67, 4, 56, 'er', 543}\n",
            "s {1, 2, 67, 4, 'er'}\n",
            "d {56, 1, 'asd', 543}\n"
          ]
        }
      ]
    },
    {
      "cell_type": "code",
      "source": [
        "#adding a new value to a set\n",
        "s={23, 5, 'er'}\n",
        "val=input('enter the value: ')\n",
        "if val.isdigit(): val=int(val)\n",
        "s.add(val)\n",
        "print(s)"
      ],
      "metadata": {
        "colab": {
          "base_uri": "https://localhost:8080/"
        },
        "id": "wRRBUGEcHFN_",
        "outputId": "d5f4966f-6286-4680-c8d7-2c56241b9032"
      },
      "execution_count": null,
      "outputs": [
        {
          "output_type": "stream",
          "name": "stdout",
          "text": [
            "enter the value: 456775\n",
            "{'er', 5, 456775, 23}\n"
          ]
        }
      ]
    },
    {
      "cell_type": "code",
      "source": [
        "#printing a set values\n",
        "s={'rtt', 3445, 'aaa'}\n",
        "for x in s:\n",
        "  print(x)"
      ],
      "metadata": {
        "colab": {
          "base_uri": "https://localhost:8080/"
        },
        "id": "F_w1nDEFII3M",
        "outputId": "b3652e37-8bf0-4387-baa4-65e5c8b0e36f"
      },
      "execution_count": null,
      "outputs": [
        {
          "output_type": "stream",
          "name": "stdout",
          "text": [
            "3445\n",
            "rtt\n",
            "aaa\n"
          ]
        }
      ]
    },
    {
      "cell_type": "code",
      "source": [
        "#merge two sets in the first set \n",
        "s={1,2,4,67,'er'}\n",
        "d={1,56,543,'asd'}\n",
        "\n",
        "for x in d:\n",
        "  s.add(x)\n",
        "\n",
        "print('s', s)\n",
        "print('d', d)"
      ],
      "metadata": {
        "colab": {
          "base_uri": "https://localhost:8080/"
        },
        "id": "0pgkIWGlIqon",
        "outputId": "0e08fea2-ae2f-4d25-bff8-0ebec43c3be0"
      },
      "execution_count": null,
      "outputs": [
        {
          "output_type": "stream",
          "name": "stdout",
          "text": [
            "s {'asd', 1, 2, 67, 4, 56, 'er', 543}\n",
            "d {56, 1, 'asd', 543}\n"
          ]
        }
      ]
    },
    {
      "cell_type": "code",
      "source": [
        "s={23,4,54,45}\n",
        "x={'wrt', 'aa'}\n",
        "print(sorted(s))\n",
        "print(sorted(x))"
      ],
      "metadata": {
        "colab": {
          "base_uri": "https://localhost:8080/"
        },
        "id": "_XIABfRMNol2",
        "outputId": "b503d5cd-b5b6-4e14-cd46-1fffd533428e"
      },
      "execution_count": null,
      "outputs": [
        {
          "output_type": "stream",
          "name": "stdout",
          "text": [
            "[4, 23, 45, 54]\n",
            "['aa', 'wrt']\n"
          ]
        }
      ]
    },
    {
      "cell_type": "code",
      "source": [
        "#the implementation of the sorted function only incase of number\n",
        "s={1, 0, 6, 5, -23, 12, 2, 10}\n",
        "l=list(s)\n",
        "for i in range(len(l)): \n",
        "  for j  in range(i+1, len(l)):\n",
        "    if l[j]< l[i]: l[i], l[j]=l[j], l[i]\n",
        "\n",
        "print(l)"
      ],
      "metadata": {
        "colab": {
          "base_uri": "https://localhost:8080/"
        },
        "id": "TzTFKSOzPmRU",
        "outputId": "57ab7092-2a79-497f-ade1-8a9cee9039ef"
      },
      "execution_count": null,
      "outputs": [
        {
          "output_type": "stream",
          "name": "stdout",
          "text": [
            "[-23, 0, 1, 2, 5, 6, 10, 12]\n"
          ]
        }
      ]
    },
    {
      "cell_type": "markdown",
      "source": [
        "**Dictionary**\n"
      ],
      "metadata": {
        "id": "TvVh8yYIhu4O"
      }
    },
    {
      "cell_type": "code",
      "source": [
        "#printing a dict keys\n",
        "d={1: 'qwe', 'ee': 3455, 23:55}\n",
        "for key  in d:\n",
        "  print(key)"
      ],
      "metadata": {
        "colab": {
          "base_uri": "https://localhost:8080/"
        },
        "id": "5wt0UcRAJLzN",
        "outputId": "0d207a6c-c750-4c33-cbac-f00e40f94317"
      },
      "execution_count": null,
      "outputs": [
        {
          "output_type": "stream",
          "name": "stdout",
          "text": [
            "1\n",
            "ee\n",
            "23\n"
          ]
        }
      ]
    },
    {
      "cell_type": "code",
      "source": [
        "#printing a dict value\n",
        "d={1: 'qwe', 'ee': 3455, 23:55}\n",
        "for key  in d:       #for key in d.keys()\n",
        "  print(d[key])   "
      ],
      "metadata": {
        "colab": {
          "base_uri": "https://localhost:8080/"
        },
        "id": "J7LcPnKgLDDd",
        "outputId": "093a9c16-7625-4d7d-9486-60e7f6edea94"
      },
      "execution_count": null,
      "outputs": [
        {
          "output_type": "stream",
          "name": "stdout",
          "text": [
            "qwe\n",
            "3455\n",
            "55\n"
          ]
        }
      ]
    },
    {
      "cell_type": "code",
      "source": [
        "#printing a dict keys and value\n",
        "d={1: 'qwe', 'ee': 3455, 23:55}\n",
        "for key  in d:\n",
        "  print(key, d[key])"
      ],
      "metadata": {
        "colab": {
          "base_uri": "https://localhost:8080/"
        },
        "id": "RVRDiGeLLrBj",
        "outputId": "3ba6053b-4023-4ba1-d9d4-078210054420"
      },
      "execution_count": null,
      "outputs": [
        {
          "output_type": "stream",
          "name": "stdout",
          "text": [
            "1 qwe\n",
            "ee 3455\n",
            "23 55\n"
          ]
        }
      ]
    },
    {
      "cell_type": "code",
      "source": [
        "#printing  a dictinary in a reverse order\n",
        "\n",
        "d={23:'ert', 'sd': 245}\n",
        "for key in reversed(list(d.keys())):\n",
        "    print(key, d[key])\n"
      ],
      "metadata": {
        "colab": {
          "base_uri": "https://localhost:8080/"
        },
        "id": "xLgO6zraa-ps",
        "outputId": "48a7ef04-8a33-4333-88b8-86480365aa60"
      },
      "execution_count": null,
      "outputs": [
        {
          "output_type": "stream",
          "name": "stdout",
          "text": [
            "sd 245\n",
            "23 ert\n"
          ]
        }
      ]
    },
    {
      "cell_type": "code",
      "source": [
        "#printing a dict items      \n",
        "d={1: 'qwe', 'ee': 3455, 23:55}\n",
        "print(d.items())\n"
      ],
      "metadata": {
        "colab": {
          "base_uri": "https://localhost:8080/"
        },
        "id": "rvIGGcoUMrmX",
        "outputId": "dc4011fb-78a6-4597-e045-6559d461849e"
      },
      "execution_count": null,
      "outputs": [
        {
          "output_type": "stream",
          "name": "stdout",
          "text": [
            "dict_items([(1, 'qwe'), ('ee', 3455), (23, 55)])\n"
          ]
        }
      ]
    },
    {
      "cell_type": "code",
      "source": [
        "#printing a dict keys and value\n",
        "d={1: 'qwe', 'ee': 3455, 23:55}\n",
        "for key, val in d.items():\n",
        "  print(key, val)"
      ],
      "metadata": {
        "colab": {
          "base_uri": "https://localhost:8080/"
        },
        "id": "e1zs93rRMK1l",
        "outputId": "f3e2aa41-e1c1-4fb8-eae1-19fd4cb43be4"
      },
      "execution_count": null,
      "outputs": [
        {
          "output_type": "stream",
          "name": "stdout",
          "text": [
            "1 qwe\n",
            "ee 3455\n",
            "23 55\n"
          ]
        }
      ]
    },
    {
      "cell_type": "code",
      "source": [
        "#create a dictinary from the user\n",
        "size=int(input('enter the size of the dictionary: '))\n",
        "d={}\n",
        "for i in range(size):\n",
        "   key=input('enter the key: ')\n",
        "   if key.isdigit(): key=int(key)\n",
        "   val=input('enter the value: ')\n",
        "   if val.isdigit(): val=int(val)\n",
        "   d[key]=val\n",
        "print(d)\n"
      ],
      "metadata": {
        "colab": {
          "base_uri": "https://localhost:8080/"
        },
        "id": "WslkcAXwUX29",
        "outputId": "22c9797d-ea5a-481d-fd4c-b34e39fddaa0"
      },
      "execution_count": null,
      "outputs": [
        {
          "output_type": "stream",
          "name": "stdout",
          "text": [
            "enter the size of the dictionary3\n",
            "enter the key: We\n",
            "enter the value: 233\n",
            "enter the key: 76\n",
            "enter the value: Wsd\n",
            "enter the key: 23\n",
            "enter the value: 445\n",
            "{'We': 233, 76: 'Wsd', 23: 445}\n"
          ]
        }
      ]
    },
    {
      "cell_type": "code",
      "source": [
        "#create a dictinary from the user\n",
        "size=int(input('enter the size of the dictionary: '))\n",
        "d={ input('enter the value: '): input('enter the key: ') for i in range(size) }\n",
        "print(d)\n"
      ],
      "metadata": {
        "colab": {
          "base_uri": "https://localhost:8080/"
        },
        "id": "bmpg9qpHXYzj",
        "outputId": "ce950a11-744c-41a6-ae1f-3abf90f1c6d8"
      },
      "execution_count": null,
      "outputs": [
        {
          "output_type": "stream",
          "name": "stdout",
          "text": [
            "enter the size of the dictionary3\n",
            "enter the ke: We\n",
            "enter the value: 233\n",
            "enter the ke: 76\n",
            "enter the value: Wsd\n",
            "enter the ke: 23\n",
            "enter the value: 445\n",
            "{'233': 'We', 'Wsd': '76', '445': '23'}\n"
          ]
        }
      ]
    },
    {
      "cell_type": "code",
      "source": [
        "#create a dictinary from the user\n",
        "size=int(input('enter the size of the dictionary: '))\n",
        "d={ i : i**2 for i in range(size) }\n",
        "print(d)\n"
      ],
      "metadata": {
        "colab": {
          "base_uri": "https://localhost:8080/"
        },
        "id": "uKfB4hMoZcW8",
        "outputId": "314eeb6c-edce-4efe-fc2c-a03a2eb478ae"
      },
      "execution_count": null,
      "outputs": [
        {
          "output_type": "stream",
          "name": "stdout",
          "text": [
            "enter the size of the dictionary: 3\n",
            "{0: 0, 1: 1, 2: 4}\n"
          ]
        }
      ]
    }
  ],
  "metadata": {
    "colab": {
      "collapsed_sections": [],
      "name": "Copy of Implement List, tuple, set, dictionary functions ",
      "provenance": [],
      "include_colab_link": true
    },
    "kernelspec": {
      "display_name": "Python 3",
      "name": "python3"
    }
  },
  "nbformat": 4,
  "nbformat_minor": 0
}