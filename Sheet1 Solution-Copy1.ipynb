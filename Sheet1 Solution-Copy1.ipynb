{
 "cells": [
  {
   "cell_type": "code",
   "execution_count": 4,
   "metadata": {},
   "outputs": [
    {
     "name": "stdout",
     "output_type": "stream",
     "text": [
      "enter a character: W\n",
      "is consonent letter\n"
     ]
    }
   ],
   "source": [
    "def isvowel(ch):\n",
    "    if ch.lower() in['a', 'o', 'i', 'e', 'u']: return True\n",
    "    return False\n",
    "x=input(\"enter a character: \")\n",
    "print((\"is consonent letter\", \"is vowel letter.\") [isvowel(x)==True])"
   ]
  },
  {
   "cell_type": "code",
   "execution_count": 13,
   "metadata": {},
   "outputs": [
    {
     "name": "stdout",
     "output_type": "stream",
     "text": [
      "enter a character: r\n",
      "is consonent letter\n"
     ]
    }
   ],
   "source": [
    "def isvowel(ch):\n",
    "    if ch in['a', 'o', 'i', 'e', 'u']: return True\n",
    "    return False\n",
    "x=input(\"enter a character: \")\n",
    "print(\"is vowel letter.\" if isvowel(x) else \"is consonent letter\")"
   ]
  },
  {
   "cell_type": "code",
   "execution_count": 19,
   "metadata": {},
   "outputs": [
    {
     "name": "stdout",
     "output_type": "stream",
     "text": [
      "enter an integer number: 76\n",
      "76 is even   number\n"
     ]
    }
   ],
   "source": [
    "def iseven(num):\n",
    "    if num%2==0: return True\n",
    "    else: return False\n",
    "\n",
    "n=int(input(\"enter an integer number: \"))\n",
    "print((str(n)+\" is odd number\", str(n)+\" is even   number\")[iseven(n)])"
   ]
  },
  {
   "cell_type": "code",
   "execution_count": 27,
   "metadata": {},
   "outputs": [
    {
     "name": "stdout",
     "output_type": "stream",
     "text": [
      "enter you string: 23w#\n",
      "you enter mixture of them\n"
     ]
    }
   ],
   "source": [
    "def isdigit(num):\n",
    "    for i in num:\n",
    "        if  not'0'<=i<='9':return False\n",
    "    return True\n",
    "            \n",
    "def isalpha(txt):\n",
    "    for i in txt.lower():\n",
    "        if  not'a'<=i<='z':return False\n",
    "    return True\n",
    "            \n",
    "def isspecial(chars):\n",
    "    for i in chars:\n",
    "        if i not in ['!', '@', '#', '$', '%', '&']: return False\n",
    "    return True\n",
    "\n",
    "x = input(\"enter you string: \")\n",
    "if isdigit(x): print(\"you enter numbers. \")\n",
    "elif isalpha(x): print(\"you enter alphabets. \")\n",
    "elif isspecial(x): print(\"you enter special charaters. \")\n",
    "else: print('you enter mixture of them')"
   ]
  },
  {
   "cell_type": "code",
   "execution_count": 33,
   "metadata": {},
   "outputs": [
    {
     "name": "stdout",
     "output_type": "stream",
     "text": [
      "enter a number: 0\n",
      "zero\n"
     ]
    }
   ],
   "source": [
    "def print_sign(i):\n",
    "    print(\"+ve number\") if i >0 else print(\"-ve number\") if i<0 else print(\"zero\")\n",
    "            \n",
    "\n",
    "x = int(input(\"enter a number: \"))\n",
    "print_sign(x)"
   ]
  },
  {
   "cell_type": "code",
   "execution_count": 40,
   "metadata": {},
   "outputs": [
    {
     "name": "stdout",
     "output_type": "stream",
     "text": [
      "enter a number: 9\n",
      "enter the operation: /\n",
      "enter a number: 3\n",
      "3.0\n"
     ]
    }
   ],
   "source": [
    "def cal(n1, op, n2):\n",
    "    if op== '+':\n",
    "        return n1 +n2\n",
    "    elif op=='-': return n1 - n2\n",
    "    elif op == '*': return n1 *n2\n",
    "    elif op== '/': \n",
    "        if n2==0: return (\"cannot divide by zero\") \n",
    "        else: return n1/n2\n",
    "x = int(input(\"enter a number: \"))\n",
    "op = input(\"enter the operation: \")\n",
    "y = int(input(\"enter a number: \"))\n",
    "print(cal(x, op, y))"
   ]
  },
  {
   "cell_type": "code",
   "execution_count": 44,
   "metadata": {},
   "outputs": [
    {
     "name": "stdout",
     "output_type": "stream",
     "text": [
      "enter the list size: 3\n",
      "enter an item: 2\n",
      "enter an item: 3\n",
      "enter an item: 5\n",
      "[2, 3, 5]\n"
     ]
    }
   ],
   "source": [
    "def read_list(l, size):\n",
    "    for i in range(size):\n",
    "        val=input(\"enter an item: \")\n",
    "        if val.isdigit(): val=int(val)\n",
    "        l.append(val)\n",
    "        \n",
    "lst=[]\n",
    "s = int(input(\"enter the list size: \"))\n",
    "read_list(lst, s)\n",
    "print(lst)"
   ]
  },
  {
   "cell_type": "code",
   "execution_count": 45,
   "metadata": {},
   "outputs": [
    {
     "name": "stdout",
     "output_type": "stream",
     "text": [
      "2\n",
      "3\n",
      "r\n",
      "5\n"
     ]
    }
   ],
   "source": [
    "def print_list(l):\n",
    "    for i in range(len(l)):\n",
    "        print(l[i])\n",
    "        \n",
    "lst=[2, 3, 'r', 5]\n",
    "print_list(lst)"
   ]
  },
  {
   "cell_type": "code",
   "execution_count": 49,
   "metadata": {},
   "outputs": [
    {
     "name": "stdout",
     "output_type": "stream",
     "text": [
      "5\n",
      "r\n",
      "3\n",
      "2\n"
     ]
    }
   ],
   "source": [
    "def reverseprint_list(l):\n",
    "    for i in reversed(range(len(l))):\n",
    "        print(l[i])\n",
    "        \n",
    "lst=[2, 3, 'r', 5]\n",
    "reverseprint_list(lst)"
   ]
  },
  {
   "cell_type": "code",
   "execution_count": 7,
   "metadata": {},
   "outputs": [
    {
     "name": "stdout",
     "output_type": "stream",
     "text": [
      "sum:  11\n",
      "average:  2.75\n"
     ]
    }
   ],
   "source": [
    "def sum_list(l):\n",
    "    sumx=0\n",
    "    for x in l:\n",
    "        sumx +=x\n",
    "    return sumx\n",
    "        \n",
    "lst=[2, 3, 1, 5]\n",
    "suml=sum_list(lst)\n",
    "print('sum: ', suml)\n",
    "print('average: ', suml/len(lst))"
   ]
  },
  {
   "cell_type": "code",
   "execution_count": 8,
   "metadata": {},
   "outputs": [
    {
     "name": "stdout",
     "output_type": "stream",
     "text": [
      "even sum:  2\n",
      "even average:  2.0\n"
     ]
    }
   ],
   "source": [
    "def sum_even_list(l):\n",
    "    sume=0; cnt=0\n",
    "    for x in l:\n",
    "        if x%2==0: sume +=x; cnt+=1\n",
    "    return [sume, cnt]\n",
    "        \n",
    "lst=[2, 3, 1, 5]\n",
    "x=sum_even_list(lst)\n",
    "print('even sum: ', x[0])\n",
    "print('even average: ', x[0]/x[1])"
   ]
  },
  {
   "cell_type": "code",
   "execution_count": 9,
   "metadata": {},
   "outputs": [
    {
     "name": "stdout",
     "output_type": "stream",
     "text": [
      "min list:  1\n",
      "max list  5\n"
     ]
    }
   ],
   "source": [
    "def min_list(l):\n",
    "    minl=l[0]\n",
    "    for x in l:\n",
    "        if minl>x: minl=x\n",
    "    return minl\n",
    "        \n",
    "def max_list(l):\n",
    "    maxl=l[0]\n",
    "    for x in l:\n",
    "        if maxl<x: maxl=x\n",
    "    return maxl\n",
    "    \n",
    "lst=[2, 3, 1, 5]\n",
    "\n",
    "print('min list: ', min_list(lst))\n",
    "print('max list ', max_list(lst))"
   ]
  },
  {
   "cell_type": "code",
   "execution_count": 13,
   "metadata": {},
   "outputs": [
    {
     "name": "stdout",
     "output_type": "stream",
     "text": [
      "enter the value: 3\n",
      "item exist\n"
     ]
    }
   ],
   "source": [
    "def isexist(l, x):\n",
    "    for i in l:\n",
    "        if x==i: return \"item exist\"\n",
    "    return \"item NOT exist\"\n",
    "        \n",
    "lst=[2, 3, 1, 5]\n",
    "val=input(\"enter the value: \")\n",
    "if val.isdigit(): val=int(val)\n",
    "print(isexist(lst, val))\n"
   ]
  },
  {
   "cell_type": "code",
   "execution_count": 11,
   "metadata": {},
   "outputs": [
    {
     "name": "stdout",
     "output_type": "stream",
     "text": [
      "enter the index: -1\n",
      "5\n"
     ]
    }
   ],
   "source": [
    "def return_value(l, i):\n",
    "    if 0<=i<len(l) or -1*len(l)<=i<0 : return l[i]\n",
    "   # if i in range(len(l)) or i in range(-1*len(l), 0): return l[i]\n",
    "    return \"index out of bound\"\n",
    "        \n",
    "lst=[2, 3, 1, 5]\n",
    "idx=int(input(\"enter the index: \"))\n",
    "print(return_value(lst, idx))\n"
   ]
  },
  {
   "cell_type": "code",
   "execution_count": 3,
   "metadata": {},
   "outputs": [
    {
     "name": "stdout",
     "output_type": "stream",
     "text": [
      "enter the value: 2\n",
      "4\n"
     ]
    }
   ],
   "source": [
    "def noval(l, val):\n",
    "    cnt=0\n",
    "    for i in l:\n",
    "        if val==i: cnt+=1\n",
    "    return cnt\n",
    "        \n",
    "lst=[2, 3, 1, 5, 2, 3, 2, 0, 2]\n",
    "val=input(\"enter the value: \")\n",
    "if val.isdigit(): val=int(val)\n",
    "print(noval(lst, val))\n"
   ]
  },
  {
   "cell_type": "code",
   "execution_count": 1,
   "metadata": {},
   "outputs": [
    {
     "name": "stdout",
     "output_type": "stream",
     "text": [
      "[2, 3, 1, 5, 'a', 'b', 'c']\n"
     ]
    }
   ],
   "source": [
    "def mergelist(l1, l2):\n",
    "    return l1[:] + l2[:]\n",
    "        \n",
    "lst1=[2, 3, 1, 5]\n",
    "lst2=['a', 'b', 'c']\n",
    "print(mergelist(lst1, lst2))\n"
   ]
  },
  {
   "cell_type": "code",
   "execution_count": 26,
   "metadata": {},
   "outputs": [
    {
     "name": "stdout",
     "output_type": "stream",
     "text": [
      "[2, 3, 1, 5, 'a', 'b', 'c']\n"
     ]
    }
   ],
   "source": [
    "def mergelist(l1, l2):\n",
    "    m= l1[:]\n",
    "    m[len(m):]=l2\n",
    "    return m\n",
    "        \n",
    "lst1=[2, 3, 1, 5]\n",
    "lst2=['a', 'b', 'c']\n",
    "print(mergelist(lst1, lst2))\n"
   ]
  },
  {
   "cell_type": "code",
   "execution_count": 29,
   "metadata": {},
   "outputs": [
    {
     "name": "stdout",
     "output_type": "stream",
     "text": [
      "even [2]\n",
      "odd [3, 1, 5]\n"
     ]
    }
   ],
   "source": [
    "def splitlist(l):\n",
    "    le=[]\n",
    "    lo=[]\n",
    "    for  x in l:\n",
    "        lo.append(x) if x%2 else le.append(x)\n",
    "    return [le, lo]\n",
    "        \n",
    "lst=[2, 3, 1, 5]\n",
    "x=splitlist(lst)\n",
    "print('even', x[0])\n",
    "print('odd', x[1])\n"
   ]
  },
  {
   "cell_type": "code",
   "execution_count": 30,
   "metadata": {},
   "outputs": [
    {
     "name": "stdout",
     "output_type": "stream",
     "text": [
      "120\n"
     ]
    }
   ],
   "source": [
    "def factorial(num):\n",
    "    if num==1: return 1\n",
    "    return num * factorial(num-1)\n",
    "\n",
    "print(factorial(5))"
   ]
  },
  {
   "cell_type": "code",
   "execution_count": 32,
   "metadata": {},
   "outputs": [
    {
     "name": "stdout",
     "output_type": "stream",
     "text": [
      "120\n"
     ]
    }
   ],
   "source": [
    "def factorial(num):\n",
    "    fact=1\n",
    "    for i in range(2, 6):\n",
    "        fact*=i\n",
    "    return fact\n",
    "\n",
    "print(factorial(5))"
   ]
  },
  {
   "cell_type": "code",
   "execution_count": 33,
   "metadata": {},
   "outputs": [
    {
     "name": "stdout",
     "output_type": "stream",
     "text": [
      "32\n"
     ]
    }
   ],
   "source": [
    "def power(num, exp):\n",
    "    if exp==1: return num\n",
    "    return num * power(num, exp-1)\n",
    "\n",
    "print(power(2, 5))"
   ]
  },
  {
   "cell_type": "code",
   "execution_count": 34,
   "metadata": {},
   "outputs": [
    {
     "name": "stdout",
     "output_type": "stream",
     "text": [
      "32\n"
     ]
    }
   ],
   "source": [
    "def power(num, exp):\n",
    "    result=1\n",
    "    for i in range(exp):\n",
    "        result *= num\n",
    "    return result\n",
    "\n",
    "print(power(2, 5))"
   ]
  },
  {
   "cell_type": "code",
   "execution_count": null,
   "metadata": {},
   "outputs": [],
   "source": []
  }
 ],
 "metadata": {
  "kernelspec": {
   "display_name": "Python 3",
   "language": "python",
   "name": "python3"
  },
  "language_info": {
   "codemirror_mode": {
    "name": "ipython",
    "version": 3
   },
   "file_extension": ".py",
   "mimetype": "text/x-python",
   "name": "python",
   "nbconvert_exporter": "python",
   "pygments_lexer": "ipython3",
   "version": "3.7.6"
  }
 },
 "nbformat": 4,
 "nbformat_minor": 4
}
